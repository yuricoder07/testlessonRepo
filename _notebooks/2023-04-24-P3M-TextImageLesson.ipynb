{
 "cells": [
  {
   "attachments": {},
   "cell_type": "markdown",
   "metadata": {},
   "source": [
    "# P3-M 4/24 Posting Text and Image\n",
    "> Image Manipulation and Get/Posting Text and Images\n",
    "- toc: true\n",
    "- authors: Jeffrey, Ben, Luke, Derek, Saavan, Dylan, Jagger\n",
    "- categories: [student]\n",
    "- type: ap\n",
    "- week: 31"
   ]
  },
  {
   "attachments": {},
   "cell_type": "markdown",
   "metadata": {},
   "source": [
    "## Lesson Overview\n",
    "\n",
    "Teaching how to create a User Class and POST request to a database. Create a database for images and upload images onto backend."
   ]
  },
  {
   "attachments": {},
   "cell_type": "markdown",
   "metadata": {},
   "source": [
    "## Subtopics:\n",
    "- Connecting to SQLite Database\n",
    "- Connecting to APIs\n",
    "- Basic CRUD Functions\n",
    "- Using images (possible python library to change images in some way) and uploading "
   ]
  },
  {
   "attachments": {},
   "cell_type": "markdown",
   "metadata": {},
   "source": [
    "## Lesson Plans\n",
    "- We will have a Jupyter notebooks for the class to make a copy of\n",
    "  - code segments in the notebook for people to change as we do the lesson\n",
    "- We will have questions and practice problems for people to answer out loud\n",
    "- May implement hands on activities"
   ]
  },
  {
   "attachments": {},
   "cell_type": "markdown",
   "metadata": {},
   "source": [
    "## Plans for Homework/Hacks\n",
    "- Add notes throughout the blog lesson\n",
    "- Answering questions throughout the blog lesson\n",
    "- Ask for an example from the student connecting to a database and adding data, doing a CRUD function"
   ]
  },
  {
   "attachments": {},
   "cell_type": "markdown",
   "metadata": {},
   "source": [
    "## Grading\n",
    "- Each member of the group will get the same amount of students to grade\n",
    "- 0.5 for thorough notes/questions in the blog lesson\n",
    "- 0.4 for hacks when implemented\n",
    "- 0.1 for extra credit that we will define "
   ]
  },
  {
   "attachments": {},
   "cell_type": "markdown",
   "metadata": {},
   "source": [
    "## Pair/Trio Groups\n",
    "- Jeffrey/Jagger/Dylan: Working on the database and creating the actual notebook for the lesson\n",
    "- Ben/Derek: Working on images and code segments for image manipulation and uploading\n",
    "- Luke/Saavan: Write out the lessons, notes, and questions for each topic\n"
   ]
  }
 ],
 "metadata": {
  "kernelspec": {
   "display_name": "base",
   "language": "python",
   "name": "python3"
  },
  "language_info": {
   "name": "python",
   "version": "3.9.12"
  },
  "orig_nbformat": 4
 },
 "nbformat": 4,
 "nbformat_minor": 2
}
