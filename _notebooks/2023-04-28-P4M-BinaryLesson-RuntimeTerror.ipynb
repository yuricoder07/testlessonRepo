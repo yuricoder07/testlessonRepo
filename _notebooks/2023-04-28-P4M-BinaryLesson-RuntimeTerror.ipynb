{
 "cells": [
  {
   "attachments": {},
   "cell_type": "markdown",
   "metadata": {},
   "source": [
    "# P4-M 4/28 Binary Lesson\n",
    "> Binary lesson plan for basic binary, boolean expressions, binary conversions, and binary searches.\n",
    "\n",
    "- toc: true\n",
    "- badges: false\n",
    "- comments: true\n",
    "- author: Ava, Alexa, Theo, Haseeb, Samarth, Ananya\n",
    "- categories: [student]\n",
    "- type: ap\n",
    "- week: 31"
   ]
  },
  {
   "attachments": {},
   "cell_type": "markdown",
   "metadata": {},
   "source": [
    "# Lesson Outline\n",
    "\n",
    "![main_lesson_page_planning](https://user-images.githubusercontent.com/111486111/229611590-2dd4fe49-c11d-41de-9311-ccb6430596be.png)\n",
    "\n",
    "# Topics to Cover:\n",
    "\n",
    "## Binary\n",
    "\n",
    "- Why use binary? What would life be like without binary?\n",
    "- definition\n",
    "\n",
    "## Truth Table and Boolean Expressions\n",
    "\n",
    "- definition\n",
    "- code examples \n",
    "- use replit for interactive code \n",
    "\n",
    "## Binary Conversions\n",
    "\n",
    "- definition\n",
    "- tutorial on how to do conversions\n",
    "- examples\n",
    "- Question time!\n",
    "\n",
    "## Binary Search\n",
    "\n",
    "- definition\n",
    "- tutorial\n",
    "- binary search examples\n",
    "- interactive code with replit\n",
    "- Question time pt 2\n",
    "\n",
    "## Hacks\n",
    "\n",
    "1. Binary Conversion Practice (question/answer format)\n",
    "2. Binary Search (create example/solve w/ given info)\n",
    "3. Complete Binary quiz \n"
   ]
  }
 ],
 "metadata": {
  "language_info": {
   "name": "python"
  },
  "orig_nbformat": 4
 },
 "nbformat": 4,
 "nbformat_minor": 2
}
