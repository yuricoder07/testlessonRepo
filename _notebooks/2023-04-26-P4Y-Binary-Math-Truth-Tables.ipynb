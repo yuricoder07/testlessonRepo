{
 "cells": [
  {
   "attachments": {},
   "cell_type": "markdown",
   "metadata": {},
   "source": [
    "# P4-Y 4/26 Binary Math and Truth Tables\n",
    "- toc: true\n",
    "- badges: false\n",
    "- comments: true\n",
    "- author: Dillon Lee, Steven Zhu, Noor Bijapur, Lucas Moore, Emaad Mir, Varalu Nibhanupudi, Ryan McWeeny, Harsha Jai\n",
    "- categories: [student]\n",
    "- type: ap\n",
    "- week: 31"
   ]
  },
  {
   "attachments": {},
   "cell_type": "markdown",
   "metadata": {},
   "source": [
    "# Binary Math and Truth Tables 4/26/2023\n",
    "\n",
    "## Subtopics\n",
    "- Converting binary between other forms of machine abstraction, i.e hexadecimal, decimal, etc. \n",
    "- Machine language and how machine language uses binary\n",
    "- Context-based storage/abstraction\n",
    "  - Abstraction of data using binary\n",
    "- analog and digital representation\n",
    "- overflow/rounding errors\n",
    "- compressing data\n",
    "- lossy/lossless conversion\n",
    "- Truth tables and logic gates (XOR, NOR, and uses)\n",
    "- uses of binary in CSP\n",
    "\n",
    "## Lesson Plans\n",
    "- We will have our main content on a github pages website\n",
    "- There will be code segments that will be presented and analyzed\n",
    "- There will also be visual aids\n",
    "- We will be demonstrating a simulation\n",
    "\n",
    "\n",
    "## Plans for Hacks\n",
    "- A mix of coding challenges, MCQs, and some SAQs\n",
    "- Asking students to build usable code. \n",
    "- Allow for a variation of choice in order to allow for extra credit"
   ]
  },
  {
   "attachments": {},
   "cell_type": "markdown",
   "metadata": {},
   "source": [
    "# Frontend/Backend Application \n",
    "## Subtopics\n",
    "- Setting up machines with Conda scripts\n",
    "- Github Pages\n",
    "- fetching and filtering content\n",
    "  - including formatting data on frontend and using frontend buttons\n",
    "- 3rd part APIs with analysis and cleaning\n",
    "  \n",
    "## Lesson Plan\n",
    "- We will have our main content on a github pages website\n",
    "- There will be code segments that will be presented and analyzed\n",
    "- There will also be visual aids\n",
    "\n",
    "## Plan for hacks\n",
    "- Coding challenges\n",
    "- Questions to test knowledge\n",
    "\n",
    "## Grading\n",
    "- We will be grading each aspect with full points, half points, or no points\n",
    "  - half points is for incomplete work but had genuine attempts"
   ]
  },
  {
   "attachments": {},
   "cell_type": "markdown",
   "metadata": {},
   "source": [
    "# "
   ]
  }
 ],
 "metadata": {
  "language_info": {
   "name": "python"
  },
  "orig_nbformat": 4
 },
 "nbformat": 4,
 "nbformat_minor": 2
}
