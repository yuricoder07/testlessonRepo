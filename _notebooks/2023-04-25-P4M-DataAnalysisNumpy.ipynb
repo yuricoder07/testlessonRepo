{
 "cells": [
  {
   "attachments": {},
   "cell_type": "markdown",
   "metadata": {},
   "source": [
    "# P4-M 4/25 Data Analysis\n",
    "> Data Analysis using Numpy and Pandas\n",
    "- toc: true\n",
    "- author: Ahad, James, Shruthi, Quinn, Yasha, Joshua\n",
    "- badges: false\n",
    "- comments: true\n",
    "- categories: [student]\n",
    "- type: ap\n",
    "- week: 31"
   ]
  }
 ],
 "metadata": {
  "kernelspec": {
   "display_name": "Python 3",
   "language": "python",
   "name": "python3"
  },
  "language_info": {
   "name": "python",
   "version": "3.8.10"
  },
  "orig_nbformat": 4,
  "vscode": {
   "interpreter": {
    "hash": "916dbcbb3f70747c44a77c7bcd40155683ae19c65e1c03b4aa3499c5328201f1"
   }
  }
 },
 "nbformat": 4,
 "nbformat_minor": 2
}
