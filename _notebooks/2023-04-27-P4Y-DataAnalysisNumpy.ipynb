{
 "cells": [
  {
   "attachments": {},
   "cell_type": "markdown",
   "metadata": {},
   "source": [
    "#  P4-Y 4/27 Data Analysis\n",
    "> Data Analysis using Numpy and Pandas\n",
    "\n",
    "- toc: true\n",
    "- badges: false\n",
    "- comments: true\n",
    "- author: Caleb Navarro, Eli Gilmur, Mati Danish, Khalid Farah, AJ Ruiz, Luke Angelini, Jame Armstrong, Shreyas Sarurkar\n",
    "- categories: [student]\n",
    "- type: ap\n",
    "- week: 31"
   ]
  },
  {
   "attachments": {},
   "cell_type": "markdown",
   "metadata": {},
   "source": [
    "Link to the Fastpages: https://kkcbal.github.io/amongus/ "
   ]
  },
  {
   "attachments": {},
   "cell_type": "markdown",
   "metadata": {},
   "source": [
    "# Hacks\n",
    "\n",
    "## Pandas (1/0.9 if submitted by 04/27 11:59)\n",
    "1. make your own data using your brian, google or chatgpt, should look different than mine. \n",
    "2. modify my code or write your own\n",
    "3. output your data other than a bar graph.\n",
    "4. answer the questions below, the more explained the better. \n",
    "\n",
    "### Questions (0.9)\n",
    "1. What are the two primary data structures in pandas and how do they differ?\n",
    "2. How do you read a CSV file into a pandas DataFrame?\n",
    "3. How do you select a single column from a pandas DataFrame?\n",
    "4. How do you filter rows in a pandas DataFrame based on a condition?\n",
    "5. How do you group rows in a pandas DataFrame by a particular column?\n",
    "6. How do you aggregate data in a pandas DataFrame using functions like sum and mean?\n",
    "7. How do you handle missing values in a pandas DataFrame?\n",
    "8. How do you merge two pandas DataFrames together?\n",
    "9. How do you export a pandas DataFrame to a CSV file?\n",
    "10. What is the difference between a Series and a DataFrame in Pandas?\n",
    "\n",
    "\n",
    "## Data Analysis / Predictive Analysis (0.9)\n",
    " 1. How can Numpy and Pandas be used to preprocess data for predictive analysis?\n",
    "3. What machine learning algorithms can be used for predictive analysis, and how do they differ?\n",
    "4. Can you discuss some real-world applications of predictive analysis in different industries?\n",
    "7. Can you explain the role of feature engineering in predictive analysis, and how it can improve model accuracy?\n",
    "8. How can machine learning models be deployed in real-time applications for predictive analysis?\n",
    "9. Can you discuss some limitations of Numpy and Pandas, and when it might be necessary to use other data analysis tools?\n",
    "10. How can predictive analysis be used to improve decision-making and optimize business processes?\n",
    "\n",
    "\n",
    "# Numpy (0.9)   \n",
    "###### (p.s. wget the tensorflow file to see the lesson.)\n",
    "###### wget https://raw.githubusercontent.com/KKcbal/amongus/master/_notebooks/2023-04-03-TenserFlow.ipynb\n",
    "###### its the first half of the tensorflow file\n",
    "\n",
    "For your hacks, use matplotlib and numpy to slice this image to display Waldo. Also find and display one other numpy function and blog about what it is used for."
   ]
  },
  {
   "cell_type": "code",
   "execution_count": null,
   "metadata": {},
   "outputs": [],
   "source": [
    "photo1 = io.imread('waldo.jpg')\n",
    "type(photo1)\n",
    "\n",
    "plt.imshow(photo1)"
   ]
  },
  {
   "attachments": {},
   "cell_type": "markdown",
   "metadata": {},
   "source": [
    "## TensorFlow (extra credit = 0.5)\n",
    "Go trough the data and do the stuff on the blog. "
   ]
  },
  {
   "attachments": {},
   "cell_type": "markdown",
   "metadata": {},
   "source": [
    "# Grading \n",
    "(binary - you have it or don't)\n",
    "\n",
    "\n",
    "| Name                                | Hacks? | Extra Credit? how much?               |\n",
    "|-------------------------------------|--------|---------------------------------------|\n",
    "| Pandas                              | Yes    | yes, +0.1 if submitted by 04/27 11:59 |\n",
    "| Data Analysis / Predictive Analysis | Yes    | No                                    |\n",
    "| Numpy                               | Yes    | No                                    |\n",
    "| Tensor Flow                         | No     | Yes, +0.5 to total score              |\n",
    "\n"
   ]
  },
  {
   "attachments": {},
   "cell_type": "markdown",
   "metadata": {},
   "source": [
    "# Review Ticket Template\n",
    "Please use this template provided to make our and your life easier. \n",
    "\n",
    "```\n",
    "| Hack                                | Link    |\n",
    "|-------------------------------------|---------|\n",
    "| Pandas                              | [](url) |\n",
    "| Data Analysis / Predictive Analysis | [](url) |\n",
    "| Numpy                               | [](url) |\n",
    "| TensorFlow                          | [](url) |\n",
    "```\n",
    "\n",
    "\n",
    "Submit hacks below\n"
   ]
  }
 ],
 "metadata": {
  "language_info": {
   "name": "python"
  },
  "orig_nbformat": 4
 },
 "nbformat": 4,
 "nbformat_minor": 2
}
