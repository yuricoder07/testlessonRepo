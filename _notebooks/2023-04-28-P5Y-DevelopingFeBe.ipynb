{
 "cells": [
  {
   "attachments": {},
   "cell_type": "markdown",
   "metadata": {},
   "source": [
    "# P5-Y 4/28 Developing Frontend/Backend Applications\n",
    "> Defining how to get started with Python Development and APIs. We improve on 1st trimester curriculum and add visualization to these concepts.\n",
    "\n",
    "- toc: true\n",
    "- badges: false\n",
    "- comments: true\n",
    "- author: Paaras Purohit, Chinmay Ramamurthy, Raunak Mondal, Tanay Patel, Qais Jamili\n",
    "- categories: [student]\n",
    "- type: ap\n",
    "- week: 31\n"
   ]
  },
  {
   "cell_type": "markdown",
   "metadata": {},
   "source": [
    "\n",
    "# Developing Frontend/Backend Applications\n",
    "> Defining how to get started with Python Development and APIs. We improve on 1st trimester curriculum and add visualization to these concepts.\n",
    "\n",
    "## Subtopics we plan on teaching\n",
    "1. Setting up machines with Conda Scripts\n",
    "2. Setting up GitHub Pages with FastPages features\n",
    "3. Building requirements and pull requests in GitHub\n",
    "4. Fetching and filtering content using JavaScript, HTML, CSS\n",
    "5. Developing Backend 3rd Party APIs with analysis and cleaning Python, Flask, Pandas\n",
    "\n",
    "## Lesson Plans\n",
    "- For #1-3, we will make videos on the subjects that will teach how to set up each subject, since they are mostly installations and tool setups\n",
    "- For #4, we will make a page where the user can use various buttons to customize size, color, font, and other properties and attributes of a sample page.\n",
    "- For #5, we will make a page where the user can use various buttons to customize the choice of API, where each API will have different CRUD operations.\n",
    "\n",
    "# Grading/Checking Work\n",
    "After the code for each activity on the website is shown, there will be a link to a Slack server where users can join, post, and talk about their beginner creations with web development."
   ]
  }
 ],
 "metadata": {
  "language_info": {
   "name": "python"
  },
  "orig_nbformat": 4
 },
 "nbformat": 4,
 "nbformat_minor": 2
}
