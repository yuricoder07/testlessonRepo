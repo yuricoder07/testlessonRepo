{
 "cells": [
  {
   "attachments": {},
   "cell_type": "markdown",
   "metadata": {},
   "source": [
    "# P4-M 4/24 Website Style\n",
    "> The UI lesson teaches how to design interfaces that look good, are easy to use, and work well for everyone. This includes things like how to arrange elements on the screen, choose fonts and colors, and make sure everything is easy to understand and use.\n",
    "- toc: true\n",
    "- comments: true\n",
    "- author: (EC^2GAL) Ellie Pang, Emma Shen, Claire Chen, Claire Zhao, Grace Wang, Annika Liao, Luna Iwazaki\n",
    "- categories: [student]\n",
    "- type: ap\n",
    "- week: 31"
   ]
  },
  {
   "attachments": {},
   "cell_type": "markdown",
   "metadata": {},
   "source": [
    "## Lesson Plan Outline"
   ]
  },
  {
   "cell_type": "code",
   "execution_count": null,
   "metadata": {
    "vscode": {
     "languageId": "plaintext"
    }
   },
   "outputs": [],
   "source": []
  },
  {
   "attachments": {},
   "cell_type": "markdown",
   "metadata": {},
   "source": [
    "### **Home Page**"
   ]
  },
  {
   "attachments": {},
   "cell_type": "markdown",
   "metadata": {},
   "source": [
    "- Introduction to the team (Roles & Contributions)\n",
    "\n",
    "- Outline of Lesson\n",
    "\n",
    "- Reveal the goal of the project:  “to let students develop their coding skills in frontend/UI…help them become more fluent in coding frontend…become experts…\""
   ]
  },
  {
   "attachments": {},
   "cell_type": "markdown",
   "metadata": {},
   "source": [
    "### **Customization 1**"
   ]
  },
  {
   "attachments": {},
   "cell_type": "markdown",
   "metadata": {},
   "source": [
    "- Definitions of properties: Color, Font, Layout, Icons, Interactivity, Accessibility\n",
    "\n",
    "- Going over how to add/change colors: changing the color of text, changing the background color, themes\n",
    "\n",
    "- Images: data compression, PIL, numpy, base 64, io"
   ]
  },
  {
   "attachments": {},
   "cell_type": "markdown",
   "metadata": {},
   "source": [
    "### **Customization 2**"
   ]
  },
  {
   "attachments": {},
   "cell_type": "markdown",
   "metadata": {},
   "source": [
    "**Section 1**\n",
    "\n",
    "**Introduction (5 minutes)**\n",
    "- Introduce the topic of advanced UI design and discuss the importance of creating effective interfaces for modern applications. \n",
    "- Explain that students will learn about advanced UI design elements and techniques and will apply these principles to design their own interfaces.\n",
    "**Body (45-60 minutes)**\n",
    "- Introduce the key elements of advanced UI design, such as microinteractions, animations, and visual feedback.\n",
    "- Show examples of interfaces that use these elements effectively and discuss how they contribute to the overall user experience.\n",
    "- Ask students to analyze and evaluate the effectiveness of these elements in the examples shown.\n",
    "**Conclusion (5-10 minutes)**\n",
    "- Review the key concepts covered in the lesson and discuss the importance of effective UI design in modern applications. \n",
    "- Encourage students to continue exploring advanced UI design techniques and principles on their own.\n",
    "\n",
    "\n",
    "**Section 2**\n",
    "\n",
    "**Introduction (5 minutes):**\n",
    "- Explain that animation is a technique used to bring static images to life by creating the illusion of motion through a series of images displayed in rapid succession.\n",
    "- Explain that animations can be created using code and that today they will learn how to code basic animations.\n",
    "**Demonstration (10 minutes):**\n",
    "- Show students a few examples of animations created using HTML, CSS, and JavaScript.\n",
    "- Explain how CSS can be used to define styles and animations for HTML elements, while JavaScript can be used to manipulate the HTML and CSS code to create dynamic effects.\n",
    "- Demonstrate how to use CSS keyframes and the animation property to create simple animations, such as moving a shape across the screen."
   ]
  },
  {
   "attachments": {},
   "cell_type": "markdown",
   "metadata": {},
   "source": [
    "### **Building JavaScript Game**"
   ]
  },
  {
   "attachments": {},
   "cell_type": "markdown",
   "metadata": {},
   "source": [
    "**Customization Goals**\n",
    "\n",
    "- Snakeskin Change\n",
    "- Apple Change\n",
    "- Background Change\n",
    "- Animations\n",
    "\n",
    "**Lesson Plan**\n",
    "\n",
    "- JavaScript basic run-down\n",
    "- Snake game customization run-down\n",
    "- Snake game customization before and after"
   ]
  },
  {
   "attachments": {},
   "cell_type": "markdown",
   "metadata": {},
   "source": [
    "### **Hacks**"
   ]
  },
  {
   "attachments": {},
   "cell_type": "markdown",
   "metadata": {},
   "source": [
    "**Hacks for Customization 1 and 2**\n",
    "\n",
    "- Clone the template repo given and replicate the screen video of the example using elements from the lesson (.9)\n",
    "- Add an own element from the lesson to make student's repository unique (.9)\n",
    "- **EXTRA** Make a UI element that was seen on one of the example websites (.2)\n"
   ]
  },
  {
   "attachments": {},
   "cell_type": "markdown",
   "metadata": {},
   "source": [
    "**Hacks for JavaScript**\n",
    "\n",
    "- Customizing an element of the game\n",
    "- Play the snake game until the score of 10\n",
    "- Take note on how to customize (make their own step-by-step guide)\n",
    "- **EXTRA** Play the snake game until 50 and a selfie with your score (NO CHEATING..if we suspect you we will do a live review of your snake playing)"
   ]
  }
 ],
 "metadata": {
  "language_info": {
   "name": "python"
  },
  "orig_nbformat": 4
 },
 "nbformat": 4,
 "nbformat_minor": 2
}
