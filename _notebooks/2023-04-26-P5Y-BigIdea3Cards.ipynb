{
 "cells": [
  {
   "attachments": {},
   "cell_type": "markdown",
   "metadata": {},
   "source": [
    "# P5-Y 4/26 Big Idea 3 Cards\n",
    "> Big Idea 3 taught through Blackjack simulation games\n",
    "- toc: true\n",
    "- badges: false\n",
    "- comments: true\n",
    "- author: Drew, Vivian, Aliya, Sri and Sreeja\n",
    "- categories: [student]\n",
    "- type: ap\n",
    "- week: 31"
   ]
  },
  {
   "attachments": {},
   "cell_type": "markdown",
   "metadata": {},
   "source": [
    "## Big Idea 3 With Cards\n",
    "\n",
    "The main focus of our lesson is to teach the various code concepts of Big Idea 3 based on a blackjack simulation game.\n",
    "\n",
    "### Subtopics\n",
    "\n",
    "- Reviewing types of variables\n",
    "- Reviewing algorithms and procedures\n",
    "    - Iteration\n",
    "    - Selection\n",
    "- The purpose of simulations and their possible benefits\n",
    "    - Our simulation will include an SQLite table\n",
    "\n",
    "### Lesson Plans\n",
    " \n",
    "- We will use \"fill in the blanks\" as lesson interactions\n",
    "- We will have code segments for them to base their notes on\n",
    "\n",
    "### Plans for hacks\n",
    "\n",
    "- At the moment, we plan on incorporating some sort of student-made simulation. It doesn't have to be complicated.\n",
    "\n",
    "### Grading\n",
    "\n",
    "- To be determined. (We don't know exactly what we'll be asking them to do quite yet. The lessons are still being outlined.)"
   ]
  }
 ],
 "metadata": {
  "language_info": {
   "name": "python"
  },
  "orig_nbformat": 4
 },
 "nbformat": 4,
 "nbformat_minor": 2
}
