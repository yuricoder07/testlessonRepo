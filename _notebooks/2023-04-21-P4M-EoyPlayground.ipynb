{
 "cells": [
  {
   "attachments": {},
   "cell_type": "markdown",
   "metadata": {},
   "source": [
    "# P4-M 4/21 Big Idea 3 through Games\n",
    "> Lesson about Big Idea 3 through Games like Robot\n",
    "- author: Finn, Edwin, Zeen, Gene, James, Kush, Luka\n",
    "- toc: true\n",
    "- comments: true\n",
    "- week: 30\n",
    "- type: ap\n",
    "- categories: [student]\n",
    "- layout: base"
   ]
  },
  {
   "attachments": {},
   "cell_type": "markdown",
   "metadata": {},
   "source": [
    "## Google Slides\n",
    "- [Slides](https://docs.google.com/presentation/d/1NkCkAGpN3_LEG8F9VS-tEYkLwsVEXzIgdgjLyTZIMr8/edit#slide=id.g227e508e708_0_0)"
   ]
  },
  {
   "attachments": {},
   "cell_type": "markdown",
   "metadata": {},
   "source": [
    "## Objectives\n",
    "- Master the concepts of iteration, list, 2d-arrays, Dictonaries, and APIs"
   ]
  },
  {
   "attachments": {},
   "cell_type": "markdown",
   "metadata": {},
   "source": [
    "## Vocab\n",
    "- **Iteration**: A process that repates itself\n",
    "- **Array**: Sometimes called a list, can keep strings and intergers inside it\n",
    "- **Mutable**:  the ability to be changed or modified \n",
    "- **Inseration**: Inserting a new value into a Dictionary\n",
    "- **Deletion**: Deleting a value inside of a Dictionary\n",
    "- **Key**: A Singular identifier that is associated with a certin value inside a Dictionary\n",
    "- **API**: Application programming interface, an external program that can be accessed for data"
   ]
  },
  {
   "attachments": {},
   "cell_type": "markdown",
   "metadata": {},
   "source": [
    "## Q1: Basic List/Array Manipulation\n",
    "- What will be the output of this code segment?\n",
    "- "
   ]
  },
  {
   "cell_type": "code",
   "execution_count": 4,
   "metadata": {},
   "outputs": [
    {
     "name": "stdout",
     "output_type": "stream",
     "text": [
      "['Hi', 'pants', 'shirt', 'shoes']\n"
     ]
    }
   ],
   "source": [
    "## REMINDER ON BASIC LIST \n",
    "\n",
    "\n",
    "list = [\"hat\", \"shoes\", \"shirt\", \"pants\"]\n",
    "\n",
    "list.append(\"Hi\")\n",
    "list.remove(\"hat\")\n",
    "list.reverse()\n",
    "\n",
    "print(list)"
   ]
  },
  {
   "attachments": {},
   "cell_type": "markdown",
   "metadata": {},
   "source": [
    "## Q2: Dictionaries"
   ]
  },
  {
   "cell_type": "code",
   "execution_count": null,
   "metadata": {},
   "outputs": [],
   "source": [
    "# Dictionary Code"
   ]
  },
  {
   "attachments": {},
   "cell_type": "markdown",
   "metadata": {},
   "source": [
    "## Q3: Iteration\n",
    "- Show Robot Game on the Website\n",
    "- Ask question about it"
   ]
  },
  {
   "cell_type": "code",
   "execution_count": null,
   "metadata": {},
   "outputs": [],
   "source": [
    "# Iteration CODE"
   ]
  },
  {
   "attachments": {},
   "cell_type": "markdown",
   "metadata": {},
   "source": [
    "## Q4: API\n",
    "- Show Pizza Game on websie\n",
    "- Ask question about it"
   ]
  },
  {
   "cell_type": "code",
   "execution_count": null,
   "metadata": {},
   "outputs": [],
   "source": [
    "# Explain Code behined it"
   ]
  },
  {
   "attachments": {},
   "cell_type": "markdown",
   "metadata": {},
   "source": [
    "# Hacks\n",
    "- Answer all questions\n",
    "- Make"
   ]
  }
 ],
 "metadata": {
  "kernelspec": {
   "display_name": "base",
   "language": "python",
   "name": "python3"
  },
  "language_info": {
   "codemirror_mode": {
    "name": "ipython",
    "version": 3
   },
   "file_extension": ".py",
   "mimetype": "text/x-python",
   "name": "python",
   "nbconvert_exporter": "python",
   "pygments_lexer": "ipython3",
   "version": "3.9.12"
  },
  "orig_nbformat": 4
 },
 "nbformat": 4,
 "nbformat_minor": 2
}
